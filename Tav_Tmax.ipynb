{
  "nbformat": 4,
  "nbformat_minor": 0,
  "metadata": {
    "colab": {
      "name": "Tav_Tmax.ipynb",
      "provenance": [],
      "collapsed_sections": [],
      "include_colab_link": true
    },
    "kernelspec": {
      "name": "python3",
      "display_name": "Python 3"
    }
  },
  "cells": [
    {
      "cell_type": "markdown",
      "metadata": {
        "id": "view-in-github",
        "colab_type": "text"
      },
      "source": [
        "<a href=\"https://colab.research.google.com/github/AlexandraGl/LaserHeatingSamp/blob/master/Tav_Tmax.ipynb\" target=\"_parent\"><img src=\"https://colab.research.google.com/assets/colab-badge.svg\" alt=\"Open In Colab\"/></a>"
      ]
    },
    {
      "cell_type": "markdown",
      "metadata": {
        "id": "yG3MYn1Lo4wq",
        "colab_type": "text"
      },
      "source": [
        "#Description"
      ]
    },
    {
      "cell_type": "markdown",
      "metadata": {
        "id": "EJI2ZIzQoWQB",
        "colab_type": "text"
      },
      "source": [
        "Calculating surface temperature parameters (maximum temperature, average temperature) for laser heated carbon samples."
      ]
    },
    {
      "cell_type": "code",
      "metadata": {
        "id": "btCm_8fGuftK",
        "colab_type": "code",
        "colab": {}
      },
      "source": [
        "from PIL import Image, ImageStat\n",
        "import math\n",
        "import matplotlib\n",
        "import matplotlib.image as mpimg\n",
        "import matplotlib.pyplot as plt\n",
        "import numpy as np\n",
        "from scipy import optimize\n",
        "from datetime import datetime"
      ],
      "execution_count": 0,
      "outputs": []
    },
    {
      "cell_type": "markdown",
      "metadata": {
        "id": "FsvgiSWUpFZH",
        "colab_type": "text"
      },
      "source": [
        "mounting google drive"
      ]
    },
    {
      "cell_type": "code",
      "metadata": {
        "id": "VOihHNz9v6SS",
        "colab_type": "code",
        "outputId": "19b10b7c-8e5f-4261-f855-b8bc33d57f85",
        "colab": {
          "base_uri": "https://localhost:8080/",
          "height": 129
        }
      },
      "source": [
        "from google.colab import drive\n",
        "drive.mount('/gdrive')"
      ],
      "execution_count": 0,
      "outputs": [
        {
          "output_type": "stream",
          "text": [
            "Go to this URL in a browser: https://accounts.google.com/o/oauth2/auth?client_id=947318989803-6bn6qk8qdgf4n4g3pfee6491hc0brc4i.apps.googleusercontent.com&redirect_uri=urn%3Aietf%3Awg%3Aoauth%3A2.0%3Aoob&scope=email%20https%3A%2F%2Fwww.googleapis.com%2Fauth%2Fdocs.test%20https%3A%2F%2Fwww.googleapis.com%2Fauth%2Fdrive%20https%3A%2F%2Fwww.googleapis.com%2Fauth%2Fdrive.photos.readonly%20https%3A%2F%2Fwww.googleapis.com%2Fauth%2Fpeopleapi.readonly&response_type=code\n",
            "\n",
            "Enter your authorization code:\n",
            "··········\n",
            "Mounted at /gdrive\n"
          ],
          "name": "stdout"
        }
      ]
    },
    {
      "cell_type": "markdown",
      "metadata": {
        "id": "v91zNZDRuini",
        "colab_type": "text"
      },
      "source": [
        "#Calibrating image (rgb) of the lamp according to the current value"
      ]
    },
    {
      "cell_type": "markdown",
      "metadata": {
        "id": "50kE2pUsM7gu",
        "colab_type": "text"
      },
      "source": [
        "##Defining constants and functions"
      ]
    },
    {
      "cell_type": "code",
      "metadata": {
        "id": "Kl2HYBK0Vy8I",
        "colab_type": "code",
        "colab": {}
      },
      "source": [
        "rgb = {'r': 0, 'g': 1, 'b': 2} #dictionary of bands\n",
        "i_l = 19.02 #lamp current from cam_calibration setup"
      ],
      "execution_count": 0,
      "outputs": []
    },
    {
      "cell_type": "markdown",
      "metadata": {
        "id": "OZ4GCt1px9ww",
        "colab_type": "text"
      },
      "source": [
        "Enetering band and threshold value"
      ]
    },
    {
      "cell_type": "code",
      "metadata": {
        "id": "gALHvLjex81M",
        "colab_type": "code",
        "colab": {}
      },
      "source": [
        "val = 200\n",
        "band = 'r'"
      ],
      "execution_count": 0,
      "outputs": []
    },
    {
      "cell_type": "markdown",
      "metadata": {
        "id": "EiR1eNUBxENj",
        "colab_type": "text"
      },
      "source": [
        "Define function of the mask. Return image area, where given band (r,g,b) exceeds given value."
      ]
    },
    {
      "cell_type": "code",
      "metadata": {
        "id": "eG2S8vNLxius",
        "colab_type": "code",
        "colab": {}
      },
      "source": [
        "def get_mask(image, value, band):\n",
        "    # make copy of image to retain the original one\n",
        "    im2 = image.copy()\n",
        "    source = im2.split()\n",
        "    # select regions where band is more than given value\n",
        "    return source[rgb[band]].point(lambda i: i > value and 255)"
      ],
      "execution_count": 0,
      "outputs": []
    },
    {
      "cell_type": "markdown",
      "metadata": {
        "id": "yVRa_dgsRhcY",
        "colab_type": "text"
      },
      "source": [
        "Define function for calculation of brightness temperature for lamp current:\n",
        "\n",
        "-123.131*x +1457.390*x^0.5 - 1945.930"
      ]
    },
    {
      "cell_type": "code",
      "metadata": {
        "id": "Yihvbz0APvwY",
        "colab_type": "code",
        "colab": {}
      },
      "source": [
        "def cfunc(i_lamp):\n",
        "  return -123.131*i_lamp + 1457.390*i_lamp**0.5 - 1945.930"
      ],
      "execution_count": 0,
      "outputs": []
    },
    {
      "cell_type": "markdown",
      "metadata": {
        "id": "yU_DRFkJbSQ-",
        "colab_type": "text"
      },
      "source": [
        "Function return mean value of RGB intensities for picture area, where \"band\" intensity exceeds \"val\""
      ]
    },
    {
      "cell_type": "code",
      "metadata": {
        "id": "FlrnD6qTc0z5",
        "colab_type": "code",
        "colab": {}
      },
      "source": [
        "def av_rgb_area(im, band, val):\n",
        "  mask = get_mask(im, val, band)\n",
        "  stat = ImageStat.Stat(im, mask)\n",
        "  return stat.mean"
      ],
      "execution_count": 0,
      "outputs": []
    },
    {
      "cell_type": "markdown",
      "metadata": {
        "id": "lMvGwPnJfdyD",
        "colab_type": "text"
      },
      "source": [
        "##Calculating brightness temperature for lamp from current"
      ]
    },
    {
      "cell_type": "code",
      "metadata": {
        "id": "cwVRCmvOekdZ",
        "colab_type": "code",
        "outputId": "df7322cb-5f4c-442c-dc72-c603cebb5fc2",
        "colab": {
          "base_uri": "https://localhost:8080/",
          "height": 35
        }
      },
      "source": [
        "t_b = cfunc(i_l)\n",
        "print(f\"Lamp brightness temperature {t_b}\")"
      ],
      "execution_count": 0,
      "outputs": [
        {
          "output_type": "stream",
          "text": [
            "Lamp brightness temperature 2068.0767138897054\n"
          ],
          "name": "stdout"
        }
      ]
    },
    {
      "cell_type": "markdown",
      "metadata": {
        "id": "mRc9hcdTe7_8",
        "colab_type": "text"
      },
      "source": [
        "Open image of lamp for calibration"
      ]
    },
    {
      "cell_type": "code",
      "metadata": {
        "id": "sYrFYpcezAfB",
        "colab_type": "code",
        "colab": {}
      },
      "source": [
        "impath = '/gdrive/My Drive/HyperLab/Lheating/cam_calibration/011/ImgA000099.tif' \n",
        "im = Image.open(impath,'r')\n"
      ],
      "execution_count": 0,
      "outputs": []
    },
    {
      "cell_type": "markdown",
      "metadata": {
        "id": "KbbJvHC_a1GI",
        "colab_type": "text"
      },
      "source": [
        "Calculating average intensities for rgb bands of selected region of picture"
      ]
    },
    {
      "cell_type": "code",
      "metadata": {
        "id": "KEXWgfr7f9cb",
        "colab_type": "code",
        "colab": {}
      },
      "source": [
        "av_rgb = av_rgb_area(im, band, val)"
      ],
      "execution_count": 0,
      "outputs": []
    },
    {
      "cell_type": "markdown",
      "metadata": {
        "id": "18vtgl1zZ8bR",
        "colab_type": "text"
      },
      "source": [
        "Defining 2 bands from RGB"
      ]
    },
    {
      "cell_type": "code",
      "metadata": {
        "id": "LaA1axoEZ6Ra",
        "colab_type": "code",
        "colab": {}
      },
      "source": [
        "band1 = 'r'\n",
        "band2 = 'g'"
      ],
      "execution_count": 0,
      "outputs": []
    },
    {
      "cell_type": "markdown",
      "metadata": {
        "id": "CEKS-J9KaK-Z",
        "colab_type": "text"
      },
      "source": [
        "Calculating average ratio of selected bands' intesities."
      ]
    },
    {
      "cell_type": "code",
      "metadata": {
        "id": "SH6VbSjl88xi",
        "colab_type": "code",
        "colab": {}
      },
      "source": [
        "av_r = av_rgb[rgb[band1]]/av_rgb[rgb[band2]]\n",
        "#print(av_ratio)"
      ],
      "execution_count": 0,
      "outputs": []
    },
    {
      "cell_type": "markdown",
      "metadata": {
        "id": "lz_ooEnlQbMo",
        "colab_type": "text"
      },
      "source": [
        "#Calculating temperature parameters of heated samples"
      ]
    },
    {
      "cell_type": "markdown",
      "metadata": {
        "id": "2cXWiVgGQrYQ",
        "colab_type": "text"
      },
      "source": [
        "##Defining constants and functions"
      ]
    },
    {
      "cell_type": "markdown",
      "metadata": {
        "id": "vpFmx7RLwXav",
        "colab_type": "text"
      },
      "source": [
        "Defining wave length $\\lambda$ for RGB bands. According to the Motion ProX spectral responce"
      ]
    },
    {
      "cell_type": "code",
      "metadata": {
        "id": "NMC1ESdgwWxj",
        "colab_type": "code",
        "colab": {}
      },
      "source": [
        "lambda_rgb = {'r': 630e-9, 'g': 530e-9, 'b': 500e-9}"
      ],
      "execution_count": 0,
      "outputs": []
    },
    {
      "cell_type": "markdown",
      "metadata": {
        "id": "rI4JWoCz-KBf",
        "colab_type": "text"
      },
      "source": [
        "Defining spectral emissivity factor $\\epsilon_\\lambda$  for RGB wave lengths fo wolfram at temperature of 2000K\n",
        "\n",
        "---\n",
        "\n"
      ]
    },
    {
      "cell_type": "code",
      "metadata": {
        "id": "_fuSGt1u-iRY",
        "colab_type": "code",
        "colab": {}
      },
      "source": [
        "eps_rgb = {'r': 0.438, 'g': 0.454, 'b': 0.459}"
      ],
      "execution_count": 0,
      "outputs": []
    },
    {
      "cell_type": "markdown",
      "metadata": {
        "id": "2h3jm-q9BRT4",
        "colab_type": "text"
      },
      "source": [
        "Defining constant C = hc/k"
      ]
    },
    {
      "cell_type": "code",
      "metadata": {
        "id": "r9fNMiLXEY6K",
        "colab_type": "code",
        "outputId": "0a0157e9-50ae-4914-e302-480abb5c7191",
        "colab": {
          "base_uri": "https://localhost:8080/",
          "height": 35
        }
      },
      "source": [
        "C = 1.44e-2\n",
        "print(f\"hc/k = {C}\")"
      ],
      "execution_count": 0,
      "outputs": [
        {
          "output_type": "stream",
          "text": [
            "hc/k = 0.0144\n"
          ],
          "name": "stdout"
        }
      ]
    },
    {
      "cell_type": "markdown",
      "metadata": {
        "id": "OR777DR6Fqrk",
        "colab_type": "text"
      },
      "source": [
        "Initializing function for calculating absolute temperature of lamp $\\cfrac{1}{T} = \\cfrac{1}{T_b}+\\cfrac{\\lambda}{C}ln\\epsilon_\\lambda$\n"
      ]
    },
    {
      "cell_type": "code",
      "metadata": {
        "id": "aspULkNGIfKe",
        "colab_type": "code",
        "colab": {}
      },
      "source": [
        "def temp_abs(lambd, eps, t_b):\n",
        "  return 1/(1/t_b + (lambd/C)*math.log(eps))"
      ],
      "execution_count": 0,
      "outputs": []
    },
    {
      "cell_type": "markdown",
      "metadata": {
        "id": "c79iUmj_PejM",
        "colab_type": "text"
      },
      "source": [
        "Initializing function for calculating sample temperature:\n",
        "\n",
        "$B_r - Const*exp(\\cfrac{A}{T_s}) = 0$\n",
        " \n",
        " where $B_r = \\cfrac{B_s(\\lambda_1, T_s)}{B_s(\\lambda_2, T_s)} \\cfrac{B_l(\\lambda_2, T_l)}{B_l(\\lambda_1, T_l)}$,\n",
        " $Const = \\cfrac{\\epsilon_l(\\lambda_2,T_l)}{\\epsilon_l(\\lambda_1,T_l)}*exp(-\\cfrac{A}{T_l})$, \n",
        " $A = \\cfrac{hc}{k}(\\cfrac{1}{\\lambda_2} - \\cfrac{1}{\\lambda_1})$\n"
      ]
    },
    {
      "cell_type": "markdown",
      "metadata": {
        "id": "eZ4eVi1wcsZB",
        "colab_type": "text"
      },
      "source": [
        "Defining constants A, Const"
      ]
    },
    {
      "cell_type": "code",
      "metadata": {
        "id": "vwkNG2RxRMaW",
        "colab_type": "code",
        "outputId": "8e874ed3-37cb-42d2-f64f-1a2af352f932",
        "colab": {
          "base_uri": "https://localhost:8080/",
          "height": 35
        }
      },
      "source": [
        "A = C*(1/lambda_rgb[band2] - 1/lambda_rgb[band1])\n",
        "Eps_r = eps_rgb[band1]/eps_rgb[band2]\n",
        "t_l = temp_abs(lambda_rgb[band1], eps_rgb[band1], t_b)\n",
        "Const = 1/(math.exp(A/t_l)*Eps_r)\n",
        "#print(A)"
      ],
      "execution_count": 0,
      "outputs": [
        {
          "output_type": "stream",
          "text": [
            "4312.668463611861\n"
          ],
          "name": "stdout"
        }
      ]
    },
    {
      "cell_type": "code",
      "metadata": {
        "id": "kinhZ_FjEeN2",
        "colab_type": "code",
        "colab": {}
      },
      "source": [
        "def temp_f(t_s):\n",
        "  return Br_r - Const*math.exp(A/t_s)"
      ],
      "execution_count": 0,
      "outputs": []
    },
    {
      "cell_type": "markdown",
      "metadata": {
        "id": "ppLbiGd0kWoW",
        "colab_type": "text"
      },
      "source": [
        "Open image of experiment with sample and specify the noise signal\n",
        "\n"
      ]
    },
    {
      "cell_type": "code",
      "metadata": {
        "id": "i8mHs00ydlvB",
        "colab_type": "code",
        "colab": {}
      },
      "source": [
        "impath_c = \"/gdrive/My Drive/HyperLab/Lheating/2018.07.10.laser/019/Acq_A/ImgA\" #path constant\n",
        "val_n = 4 #noise value\n",
        "Tmax_f = np.zeros(3271)\n",
        "Tav_f = np.zeros(3271))"
      ],
      "execution_count": 0,
      "outputs": []
    },
    {
      "cell_type": "markdown",
      "metadata": {
        "id": "eURbM0_nSJ7Z",
        "colab_type": "text"
      },
      "source": [
        "##Calculating temperature"
      ]
    },
    {
      "cell_type": "markdown",
      "metadata": {
        "id": "KXC4Q5RqI44p",
        "colab_type": "text"
      },
      "source": [
        "Calculating temperature for each point in the area where R, G, B channel values exceed noise value.\n",
        "\n",
        "For each picture calculating maximum and average temperature, store in arrays Tmax_f and Tav_f"
      ]
    },
    {
      "cell_type": "code",
      "metadata": {
        "id": "DA0LoWuFM1nK",
        "colab_type": "code",
        "colab": {}
      },
      "source": [
        "start = datetime.now()\n",
        "for i in range(3271):\n",
        "    tmp = str(i)\n",
        "    impath = impath_c + tmp.zfill(6) + \".tif\"\n",
        "    samp_im = Image.open(impath,'r')\n",
        "    np_im = np.array(samp_im) #Convert to numpy, calc mask for noise signal\n",
        "    r,g,b = np_im[25:,:,0], np_im[25:,:,1], np_im[25:,:,2]\n",
        "    mask_r = r > val_n\n",
        "    mask_g = g > val_n\n",
        "    mask_b = b > val_n\n",
        "    mask_rgb = mask_r*mask_g*mask_b #mask where all r g and b bands exceed noise value\n",
        "    if r[mask_rgb].size > 0:\n",
        "        br_r = r[mask_rgb]/g[mask_rgb]#calc brightness ratio of r and g bands\n",
        "        T_abs = np.zeros(br_r.size)\n",
        "        for k in range(br_r.size):\n",
        "            Br_r = br_r[k]/av_r\n",
        "            sol = optimize.root_scalar(temp_f, bracket=[10, 10000], method='brentq')\n",
        "            T_abs[k] = sol.root\n",
        "        Tmax_f[i] = np.amax(T_abs)\n",
        "        Tav_f[i] = np.average(T_abs)\n",
        "    else:\n",
        "        i = i+1\n",
        "\n",
        "dt = datetime.now() - start  \n"
      ],
      "execution_count": 0,
      "outputs": []
    },
    {
      "cell_type": "markdown",
      "metadata": {
        "id": "M5z7eVBZKXq_",
        "colab_type": "text"
      },
      "source": [
        "Check whether all images was processed. Print number of image i."
      ]
    },
    {
      "cell_type": "code",
      "metadata": {
        "id": "yoOYSl5rxA73",
        "colab_type": "code",
        "outputId": "7848d445-7cd6-44b3-eb26-38e1786b731e",
        "colab": {
          "base_uri": "https://localhost:8080/",
          "height": 35
        }
      },
      "source": [
        "print(i)"
      ],
      "execution_count": 0,
      "outputs": [
        {
          "output_type": "stream",
          "text": [
            "3271\n"
          ],
          "name": "stdout"
        }
      ]
    },
    {
      "cell_type": "markdown",
      "metadata": {
        "id": "Wa83--qAKnp7",
        "colab_type": "text"
      },
      "source": [
        "Print maximum of Tmax_f and Tav_f arrays. Chek whether data is adequite. Print time of operation."
      ]
    },
    {
      "cell_type": "code",
      "metadata": {
        "id": "k9-UEaQDmnLk",
        "colab_type": "code",
        "outputId": "5cfe6d8f-12ff-4598-9874-df0debe51f41",
        "colab": {
          "base_uri": "https://localhost:8080/",
          "height": 54
        }
      },
      "source": [
        "print(np.amax(Tmax_f), np.amax(Tav_f))\n",
        "print(f'time operation: {dt}')"
      ],
      "execution_count": 0,
      "outputs": [
        {
          "output_type": "stream",
          "text": [
            "2866.330680689075 2565.818660599126\n",
            "time operation: 0:24:08.207221\n"
          ],
          "name": "stdout"
        }
      ]
    },
    {
      "cell_type": "markdown",
      "metadata": {
        "id": "QpwsXtMSmHpA",
        "colab_type": "text"
      },
      "source": [
        "11:\n",
        "\n",
        "max Tmax 3596.2461458028038,  max Tav 2380.1069003813404\n",
        "\n",
        "10:\n",
        "\n",
        "max Tmax 5433.2911873283265 ,  max Tav 2282.1456528721637\n",
        "\n",
        "09:\n",
        "\n",
        "max Tmax 2687.5583021741722,  max Tav 2418.8743230518576"
      ]
    },
    {
      "cell_type": "code",
      "metadata": {
        "id": "DRUp-Tk_YLcP",
        "colab_type": "code",
        "colab": {}
      },
      "source": [
        "time = np.zeros(3271)\n",
        "for i in range(3271):\n",
        "  time[i] = i/150\n"
      ],
      "execution_count": 0,
      "outputs": []
    },
    {
      "cell_type": "markdown",
      "metadata": {
        "id": "tAloHR3l8ThJ",
        "colab_type": "text"
      },
      "source": [
        "##Saving data"
      ]
    },
    {
      "cell_type": "code",
      "metadata": {
        "id": "7TGeUTMKa7Is",
        "colab_type": "code",
        "colab": {}
      },
      "source": [
        "Tmax_t = np.column_stack((time,Tmax_f))\n",
        "Tav_t = np.column_stack((time,Tav_f))"
      ],
      "execution_count": 0,
      "outputs": []
    },
    {
      "cell_type": "code",
      "metadata": {
        "id": "WGv4rdXnchPQ",
        "colab_type": "code",
        "colab": {}
      },
      "source": [
        "np.savetxt(\"/gdrive/My Drive/HyperLab/Lheating/2018.07.10.laser/019/Tmax_t.txt\", Tmax_t, fmt='%4.12f', delimiter='\\t', newline='\\n', header='time, s'+'\\t'+'max temperature, K', comments='# ')"
      ],
      "execution_count": 0,
      "outputs": []
    },
    {
      "cell_type": "code",
      "metadata": {
        "id": "Vpvfm_R1eg8o",
        "colab_type": "code",
        "colab": {}
      },
      "source": [
        "np.savetxt(\"/gdrive/My Drive/HyperLab/Lheating/2018.07.10.laser/019/Tav_t.txt\", Tav_t, fmt='%4.12f', delimiter='\\t', newline='\\n', header='time, s'+'\\t'+'av temperature, K', comments='# ')"
      ],
      "execution_count": 0,
      "outputs": []
    },
    {
      "cell_type": "markdown",
      "metadata": {
        "id": "ObRlOYi-Td6u",
        "colab_type": "text"
      },
      "source": [
        "##Plotting results"
      ]
    },
    {
      "cell_type": "code",
      "metadata": {
        "id": "7yS5FZOHfGwt",
        "colab_type": "code",
        "outputId": "93e39623-aee2-4b82-c7b0-34dc4dc1ca3e",
        "colab": {
          "base_uri": "https://localhost:8080/",
          "height": 901
        }
      },
      "source": [
        "fig = plt.figure(figsize = (25,15))\n",
        "fig.add_subplot(1, 2, 1)\n",
        "plt.plot(time, Tmax_f, 'r.')\n",
        "plt.xlabel('time, s')\n",
        "plt.ylabel('Temperature max, K')\n",
        "fig.add_subplot(1, 2, 2)\n",
        "plt.plot(time, Tav_f, 'r.')\n",
        "plt.xlabel('time, s')\n",
        "plt.ylabel('Temperature av, K')\n",
        "plt.show()"
      ],
      "execution_count": 0,
      "outputs": [
        {
          "output_type": "display_data",
          "data": {
            "image/png": "[encoded data removed]",
            "text/plain": [
              "<Figure size 1800x1080 with 2 Axes>"
            ]
          },
          "metadata": {
            "tags": []
          }
        }
      ]
    }
  ]
}